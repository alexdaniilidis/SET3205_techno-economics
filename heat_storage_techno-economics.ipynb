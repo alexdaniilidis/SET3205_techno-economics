{
 "cells": [
  {
   "cell_type": "markdown",
   "source": [
    "# Learning objectives of this notebook\n",
    "\n",
    "1. Load simulation output using pandas\n",
    "2. Plot data and analyse simulation data\n",
    "3. Pre-treat data for economic analysis\n",
    "4. Compute LCOH\n",
    "5. Implement the code for NPV\n",
    "6. Performa a quick sensitivity analysis as per instructions\n"
   ],
   "metadata": {
    "collapsed": false,
    "pycharm": {
     "name": "#%% md\n"
    }
   }
  },
  {
   "cell_type": "code",
   "execution_count": 4,
   "metadata": {
    "collapsed": true
   },
   "outputs": [],
   "source": [
    "import pandas as pd\n",
    "import numpy as np\n",
    "import matplotlib.pyplot as plt\n",
    "import seaborn as sns\n",
    "import os"
   ]
  },
  {
   "cell_type": "code",
   "execution_count": 5,
   "outputs": [],
   "source": [
    "flist = [os.path.join(dp, n) for dp, dn, fn in os.walk(os.getcwd())\n",
    "            for n in fn\n",
    "            if n.endswith('.xlsx')\n",
    "            and os.path.isfile(os.path.join(dp, n))]\n"
   ],
   "metadata": {
    "collapsed": false
   }
  },
  {
   "cell_type": "code",
   "execution_count": 9,
   "outputs": [],
   "source": [
    "data_hot = pd.read_excel('ATES_10yrs_Martin.xlsx', sheet_name='hotwell_results')\n",
    "data_hot.drop(columns=['well_P', 'well_Q'], inplace=True)\n",
    "data_hot = data_hot.add_suffix('_hot')\n",
    "\n",
    "data_warm = pd.read_excel('ATES_10yrs_Martin.xlsx', sheet_name='warmwell_results')\n",
    "data_warm.drop(columns=['well_P', 'well_Q'], inplace=True)\n",
    "data_warm = data_warm.add_suffix('_warm')\n",
    "\n",
    "data = data_hot.join(data_warm)"
   ],
   "metadata": {
    "collapsed": false
   }
  },
  {
   "cell_type": "code",
   "execution_count": null,
   "outputs": [],
   "source": [
    "flist"
   ],
   "metadata": {
    "collapsed": false
   }
  },
  {
   "cell_type": "code",
   "execution_count": null,
   "outputs": [],
   "source": [
    "# # repeat the last year to extend the lifetime\n",
    "# temp = data.tail(84)\n",
    "# add_df = pd.concat([temp]*10, ignore_index=True)\n",
    "# data = pd.concat([data, add_df], ignore_index=True)\n",
    "\n",
    "# assign timeperiods and years\n",
    "data['timeperiods'] = range(len(data))\n",
    "data['years'] = data['timeperiods'] * 365/83.3/365"
   ],
   "metadata": {
    "collapsed": false
   }
  },
  {
   "cell_type": "code",
   "execution_count": null,
   "outputs": [],
   "source": [
    "# set timedelta as index\n",
    "data.set_index(pd.to_timedelta(data['years'] * pd.Timedelta(('365 days')), unit='s'), inplace=True)\n",
    "\n",
    "# assign date as column\n",
    "data['date'] = pd.to_datetime('7/5/2023') + pd.to_timedelta(\n",
    "                                        data['years'] * pd.Timedelta(('365 days')), unit='s')\n",
    "\n",
    "# adata the number of periods for further economic assessment\n",
    "data['econ_periods'] = np.arange(len(data))\n",
    "\n",
    "# compute the deltahours for economic and energy assessments\n",
    "data['deltahours'] = data.index.to_series().diff(1) / pd.Timedelta('1 hour')\n",
    "\n",
    "# verify that we only have one delta\n",
    "data['deltahours'].unique()"
   ],
   "metadata": {
    "collapsed": false
   }
  },
  {
   "cell_type": "code",
   "execution_count": null,
   "outputs": [],
   "source": [
    "# assign well control indicators\n",
    "data['well control'] = np.where(data['well_Qcalc_hot'] > 0, 'charge', 'discharge')\n",
    "data['charge'] = np.where(data['well control'] == 'charge', 1, 0)"
   ],
   "metadata": {
    "collapsed": false
   }
  },
  {
   "cell_type": "code",
   "execution_count": null,
   "outputs": [],
   "source": [
    "# Compute power and recovery efficiency\n",
    "\n",
    "#define columns required for calculating power\n",
    "powercols = ['Q', 'density', 'cp', 'T']\n",
    "\n",
    "# compute sum of power for hot and warm wells (in case of multiple wells)\n",
    "for well in ['hot', 'warm']:\n",
    "    tt = data.filter(like=well)\n",
    "    ls = [tt.filter(like=col).columns[0] for col in powercols]\n",
    "    data[well+' power (MW)'] = tt.loc[:,ls].prod(axis=1)* 1/3600 * 1e-6\n",
    "\n",
    "# compute net power\n",
    "data['power net (MW)'] = data['hot power (MW)'] + data['warm power (MW)']\n",
    "\n",
    "\n",
    "# compute recovery efficiency\n",
    "data['energy injected (MWh)'] = np.where(data['power net (MW)'] > 0, data['power net (MW)']*data['deltahours'], 0)\n",
    "data['energy produced (MWh)'] = np.where(data['power net (MW)'] < 0, abs(data['power net (MW)'])*data['deltahours'], 0)\n",
    "data['recovery efficiency (-)'] = (data['energy produced (MWh)'].cumsum() / data['energy injected (MWh)'].cumsum())\n",
    "\n"
   ],
   "metadata": {
    "collapsed": false
   }
  },
  {
   "cell_type": "code",
   "execution_count": null,
   "outputs": [],
   "source": [
    "# Make an overview plot of simulation output\n",
    "fig, ax = plt.subplots(2, 3, figsize=(14, 8), sharex=True, sharey=False, dpi=200)\n",
    "axx = fig.axes\n",
    "\n",
    "\n",
    "data.plot(x='years', y=['hot power (MW)', 'warm power (MW)'], ax=axx[0])\n",
    "data.plot(x='years', y=['cell_T_hot', 'cell_T_warm'], ax=axx[1])\n",
    "data.plot(x= 'years', y= ['well_Pcalc_hot', 'well_Pcalc_warm'], ax=axx[2])\n",
    "data.plot(x= 'years', y= 'power net (MW)', ax=axx[3])\n",
    "data.plot(x= 'years', y = ['well_Qcalc_hot', 'well_Qcalc_warm'], ax=axx[4])\n",
    "data.plot(x= 'years', y = 'recovery efficiency (-)', ax=axx[5])\n",
    "# fig.delaxes(ax_list[-1])\n",
    "set_axes_fontsize = 12\n",
    "\n",
    "plt.show()"
   ],
   "metadata": {
    "collapsed": false
   }
  },
  {
   "cell_type": "code",
   "execution_count": null,
   "outputs": [],
   "source": [
    "# compute pumping power\n",
    "\n",
    "# Compute pressure difference between wells\n",
    "data['Pump dp (MPa)'] = (abs(data['well_Pcalc_hot'] ) - abs(data['well_Pcalc_warm'])) * 1e-6\n",
    "\n",
    "# define conversion factors and pump efficiency\n",
    "m3_day_m3_sec = 1 / (24 * 60 * 60)\n",
    "pump_efficiency = 0.5\n",
    "\n",
    "# compute the pumping power\n",
    "data['Pump power (MW)'] = abs(data['Pump dp (MPa)']) * \\\n",
    "                             abs(data['well_Pcalc_hot']) * m3_day_m3_sec / pump_efficiency"
   ],
   "metadata": {
    "collapsed": false
   }
  },
  {
   "cell_type": "code",
   "execution_count": null,
   "outputs": [],
   "source": [
    "# compute the pumping costs\n",
    "electricity_price = 250 # euro/MWh\n",
    "data['OpEx_pump (\\u20ac)'] = data['Pump power (MW)'] * data['deltahours'] * electricity_price\n"
   ],
   "metadata": {
    "collapsed": false
   }
  },
  {
   "cell_type": "code",
   "execution_count": null,
   "outputs": [],
   "source": [
    "# assign the CapEx for drilling the wells\n",
    "data['CapEx (\\u20ac)'] = 0\n",
    "data.loc[data.index == data.index[0], 'CapEx (\\u20ac)'] = 2 * 500000\n",
    "\n",
    "annual_OpEx_rate = 0.03\n",
    "\n",
    "# compute the year ratio of our time intervals\n",
    "ratio_year = pd.Timedelta(data['deltahours'].unique()[1], unit='h') / pd.Timedelta('365.25 days')\n",
    "\n",
    "# compute periodic OpEx rate based on year ration of time intervals\n",
    "periodic_OpEx_rate = round(((1 + annual_OpEx_rate) ** ratio_year) - 1, 12)\n",
    "\n",
    "# calculate variable OpEx costs\n",
    "data['OpEx (\\u20ac)'] = data['CapEx (\\u20ac)'].cumsum() * periodic_OpEx_rate"
   ],
   "metadata": {
    "collapsed": false
   }
  },
  {
   "cell_type": "code",
   "execution_count": null,
   "outputs": [],
   "source": [
    "# calculate Levelised Cost of Heat (LCOH)\n",
    "\n",
    "annual_discount_rate = 0.05\n",
    "\n",
    "# periodic discount rate\n",
    "periodic_discount_rate = round(((1 + annual_discount_rate) ** ratio_year) - 1, 12)\n",
    "\n",
    "# compute the LCOH costs\n",
    "data['LCOH costs'] = data['CapEx (\\u20ac)'].fillna(0) \\\n",
    "                        + data['OpEx (\\u20ac)'] \\\n",
    "                          + data['OpEx_pump (\\u20ac)'].fillna(0)\n",
    "\n",
    "# discount LCOH costs\n",
    "data['discounted LCOH costs'] = (data['LCOH costs'] /\n",
    "                                      (1 + periodic_discount_rate) ** data['econ_periods']).cumsum()\n",
    "\n",
    "# discount produced energy\n",
    "data['discounted LCOH energy'] = (data['energy produced (MWh)'] /\n",
    "                                        (1 + periodic_discount_rate) ** data[\n",
    "                                            'econ_periods']).cumsum()\n",
    "\n",
    "# compute LCOH\n",
    "data[r'LCOH (€/MWh)'] = data['discounted LCOH costs'] / data['discounted LCOH energy']"
   ],
   "metadata": {
    "collapsed": false
   }
  },
  {
   "cell_type": "code",
   "execution_count": null,
   "outputs": [],
   "source": [
    "# Plot final result\n",
    "fig, ax = plt.subplots(2, 3, figsize=(14, 8), sharex=True, sharey=False, dpi=200)\n",
    "axx = fig.axes\n",
    "\n",
    "\n",
    "data.plot(x='years', y=['hot power (MW)', 'warm power (MW)'], ax=axx[0])\n",
    "data.plot(x='years', y=['cell_T_hot', 'cell_T_warm'], ax=axx[1])\n",
    "data.plot(x= 'years', y= ['well_Pcalc_hot', 'well_Pcalc_warm'], ax=axx[2])\n",
    "data.plot(x= 'years', y= 'power net (MW)', ax=axx[3])\n",
    "data.plot(x= 'years', y = 'recovery efficiency (-)', ax=axx[4])\n",
    "data.plot(x= 'years', y = r'LCOH (€/MWh)', ax=axx[5])\n",
    "axx[5].annotate('%0.2f @ time: %.2f yrs' % (data[r'LCOH (€/MWh)'].iloc[-1],\n",
    "                                            data['years'].iloc[-1]),\n",
    "                            xy=(0.5, 0.5), va='center', ha='center',\n",
    "                            xycoords=('axes fraction'))\n",
    "axx[5].set_ylim(0, 500)\n",
    "# fig.delaxes(ax_list[-1])\n",
    "set_axes_fontsize = 12\n",
    "\n",
    "plt.show()"
   ],
   "metadata": {
    "collapsed": false
   }
  },
  {
   "cell_type": "markdown",
   "source": [
    "### Implement the code for NPV calculations\n",
    "Use a heat price of 15 Euro/MWh and use discount rates of 0%, 5% and 10%"
   ],
   "metadata": {
    "collapsed": false,
    "pycharm": {
     "name": "#%% md\n"
    }
   }
  },
  {
   "cell_type": "code",
   "execution_count": null,
   "outputs": [],
   "source": [],
   "metadata": {
    "collapsed": false,
    "pycharm": {
     "name": "#%%\n"
    }
   }
  },
  {
   "cell_type": "markdown",
   "source": [
    "### Add 10 and 20 more years\n",
    "\n",
    "Do this by repeating the last year as many times as needed (see earlier part of the code)\n",
    "Use a discount rate of 10% for all cases"
   ],
   "metadata": {
    "collapsed": false,
    "pycharm": {
     "name": "#%% md\n"
    }
   }
  },
  {
   "cell_type": "code",
   "execution_count": null,
   "outputs": [],
   "source": [],
   "metadata": {
    "collapsed": false,
    "pycharm": {
     "name": "#%%\n"
    }
   }
  }
 ],
 "metadata": {
  "kernelspec": {
   "display_name": "Python 3",
   "language": "python",
   "name": "python3"
  },
  "language_info": {
   "codemirror_mode": {
    "name": "ipython",
    "version": 2
   },
   "file_extension": ".py",
   "mimetype": "text/x-python",
   "name": "python",
   "nbconvert_exporter": "python",
   "pygments_lexer": "ipython2",
   "version": "2.7.6"
  }
 },
 "nbformat": 4,
 "nbformat_minor": 0
}